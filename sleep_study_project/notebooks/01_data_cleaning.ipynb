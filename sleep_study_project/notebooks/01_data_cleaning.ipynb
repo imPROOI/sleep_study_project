{
 "cells": [
  {
   "cell_type": "code",
   "execution_count": null,
   "id": "c6a4149e",
   "metadata": {},
   "outputs": [],
   "source": [
    "import pandas as pd\n",
    "\n",
    "# 1. قراءة الملف\n",
    "df = pd.read_csv('../data/raw/sleep_data_raw.csv', encoding='cp1256')\n",
    "\n",
    "# 2. تنظيف أسماء الأعمدة\n",
    "# تنظيف أسماء الأعمدة من الفراغات والرموز الخفية مثل \\xa0\n",
    "df.columns = df.columns.str.strip().str.replace('\\xa0', '', regex=False)\n",
    "\n",
    "# إعادة التسمية لتسهيل الاستخدام\n",
    "df.rename(columns={\n",
    "    'كم ساعة نمت الليلة الماضية ؟': 'ساعات_النوم',\n",
    "    'هل شعرت برغبة في تأجيل مهامك أو التسويف؟': 'تسويف',\n",
    "    'قدرتك على التركيز الذهني اليوم؟': 'تركيز',\n",
    "    'كيف تقيم مستوى طاقتك الآن؟': 'طاقة',\n",
    "    'كيف تقيم مزاجك اليوم؟': 'مزاج',\n",
    "    'هل سبق ولاحظت أن النوم الجيد يحسن حالتك النفسية؟': 'تأثير_النوم_على_النفسية',\n",
    "    'هل واجهت صعوبة في التعامل مع الآخرين اليوم؟': 'صعوبة_اجتماعية'\n",
    "}, inplace=True)\n",
    "\n",
    "\n",
    "# 4. تحويل \"ساعات_النوم\" إلى أرقام\n",
    "mapping_sleep = {\n",
    "    'اقل من 4': 3,\n",
    "    '4-6 ساعات': 5,\n",
    "    '6-8 ساعات': 7,\n",
    "    'أكثر من 8 ساعات': 9\n",
    "}\n",
    "df['ساعات_النوم_رقمي'] = df['ساعات_النوم'].map(mapping_sleep)\n",
    "\n",
    "# 5. تحويل \"تسويف\" إلى أرقام\n",
    "mapping_yes_no = {\n",
    "    'نعم': 1,\n",
    "    'لا': 0,\n",
    "    'الئ حد ما': 0.5,\n",
    "    'إلى حد ما': 0.5\n",
    "}\n",
    "df['تسويف_رقمي'] = df['تسويف'].map(mapping_yes_no)\n",
    "\n",
    "# 6. تحويل الأعمدة الرقمية (مزاج، طاقة، تركيز) إلى أرقام\n",
    "for col in ['مزاج', 'طاقة', 'تركيز']:\n",
    "    df[col] = pd.to_numeric(df[col], errors='coerce')\n",
    "\n",
    "# 7. معالجة القيم المفقودة\n",
    "df['ساعات_النوم_رقمي'].fillna(df['ساعات_النوم_رقمي'].median(), inplace=True)\n",
    "df['تسويف_رقمي'].fillna(df['تسويف_رقمي'].median(), inplace=True)\n",
    "df['مزاج'].fillna(df['مزاج'].median(), inplace=True)\n",
    "df['طاقة'].fillna(df['طاقة'].median(), inplace=True)\n",
    "df['تركيز'].fillna(df['تركيز'].median(), inplace=True)\n",
    "\n",
    "# 8. حذف الأعمدة الفارغة تمامًا أو الغير مفيدة (اختياري)\n",
    "df.drop(columns=['البريد الإلكتروني', 'الاسم'], inplace=True, errors='ignore')\n",
    "\n",
    "# 9. حفظ الملف النظيف (اختياري)\n",
    "# حفظ الملف النظيف داخل مجلدك الحالي\n",
    "df.to_csv(r'C:\\Users\\gknow\\Desktop\\sleep_study_project\\data\\processed\\sleep_data_clean.csv', index=False, encoding='utf-8-sig')\n",
    "\n",
    "\n",
    "# 10. عرض معاينة\n",
    "df.head()\n"
   ]
  },
  {
   "cell_type": "code",
   "execution_count": null,
   "id": "1e2991ae",
   "metadata": {},
   "outputs": [],
   "source": [
    "df.columns = df.columns.str.strip() "
   ]
  },
  {
   "cell_type": "code",
   "execution_count": 14,
   "id": "882593df",
   "metadata": {},
   "outputs": [
    {
     "name": "stdout",
     "output_type": "stream",
     "text": [
      "['أقل من 15 دقيقة' ' لا' 'من 15–30 دقيقة' 'أكثر من 30 دقيقة']\n"
     ]
    }
   ],
   "source": [
    "print(df['هل تستخدم الجوال قبل النوم؟'].unique())\n"
   ]
  },
  {
   "cell_type": "code",
   "execution_count": 15,
   "id": "4f11eca1",
   "metadata": {},
   "outputs": [
    {
     "name": "stdout",
     "output_type": "stream",
     "text": [
      "حجم عينات مستخدمي الجوال: 74\n",
      "حجم عينات غير مستخدمي الجوال: 5\n",
      "الفرق في المزاج بين مستخدمي الجوال وغيرهم: 0.4 نقطة\n",
      "قيمة p لاختبار t: 0.4567\n"
     ]
    }
   ],
   "source": [
    "# تنظيف الفراغات من القيم\n",
    "df['هل تستخدم الجوال قبل النوم؟'] = df['هل تستخدم الجوال قبل النوم؟'].str.strip()\n",
    "\n",
    "# اعتبر \"لا\" فقط هي عدم استخدام الجوال، والباقي مستخدمين\n",
    "phone_users_mood = df[df['هل تستخدم الجوال قبل النوم؟'] != 'لا']['المزاج'].dropna()\n",
    "no_phone_mood = df[df['هل تستخدم الجوال قبل النوم؟'] == 'لا']['المزاج'].dropna()\n",
    "\n",
    "print(\"حجم عينات مستخدمي الجوال:\", phone_users_mood.count())\n",
    "print(\"حجم عينات غير مستخدمي الجوال:\", no_phone_mood.count())\n",
    "\n",
    "# اختبار t إذا الحجم مناسب\n",
    "if phone_users_mood.count() > 1 and no_phone_mood.count() > 1:\n",
    "    t_stat, p_value = stats.ttest_ind(phone_users_mood, no_phone_mood)\n",
    "    diff = no_phone_mood.mean() - phone_users_mood.mean()\n",
    "    print(f\"الفرق في المزاج بين مستخدمي الجوال وغيرهم: {diff:.1f} نقطة\")\n",
    "    print(f\"قيمة p لاختبار t: {p_value:.4f}\")\n",
    "else:\n",
    "    print(\"عدد البيانات في إحدى المجموعات قليل جداً لإجراء اختبار t.\")\n"
   ]
  },
  {
   "cell_type": "code",
   "execution_count": 16,
   "id": "d8da84d4",
   "metadata": {},
   "outputs": [
    {
     "name": "stdout",
     "output_type": "stream",
     "text": [
      "حجم التأثير (Effect size): -0.347\n",
      "القوة الإحصائية (Power): 0.115\n"
     ]
    }
   ],
   "source": [
    "from statsmodels.stats.power import TTestIndPower\n",
    "\n",
    "# إعداد الحساب\n",
    "analysis = TTestIndPower()\n",
    "effect_size = (phone_users_mood.mean() - no_phone_mood.mean()) / df['المزاج'].std()\n",
    "power = analysis.solve_power(effect_size=effect_size, nobs1=len(phone_users_mood), ratio=len(no_phone_mood)/len(phone_users_mood), alpha=0.05)\n",
    "\n",
    "print(f\"حجم التأثير (Effect size): {effect_size:.3f}\")\n",
    "print(f\"القوة الإحصائية (Power): {power:.3f}\")\n"
   ]
  }
 ],
 "metadata": {
  "kernelspec": {
   "display_name": "Python 3",
   "language": "python",
   "name": "python3"
  },
  "language_info": {
   "codemirror_mode": {
    "name": "ipython",
    "version": 3
   },
   "file_extension": ".py",
   "mimetype": "text/x-python",
   "name": "python",
   "nbconvert_exporter": "python",
   "pygments_lexer": "ipython3",
   "version": "3.11.9"
  }
 },
 "nbformat": 4,
 "nbformat_minor": 5
}
